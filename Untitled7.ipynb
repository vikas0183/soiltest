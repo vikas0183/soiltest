{
  "nbformat": 4,
  "nbformat_minor": 0,
  "metadata": {
    "colab": {
      "provenance": [],
      "authorship_tag": "ABX9TyN7Mj+11PeudWGWzL3KA0ac",
      "include_colab_link": true
    },
    "kernelspec": {
      "name": "python3",
      "display_name": "Python 3"
    },
    "language_info": {
      "name": "python"
    }
  },
  "cells": [
    {
      "cell_type": "markdown",
      "metadata": {
        "id": "view-in-github",
        "colab_type": "text"
      },
      "source": [
        "<a href=\"https://colab.research.google.com/github/vikas0183/soiltest/blob/main/Untitled7.ipynb\" target=\"_parent\"><img src=\"https://colab.research.google.com/assets/colab-badge.svg\" alt=\"Open In Colab\"/></a>"
      ]
    },
    {
      "cell_type": "code",
      "execution_count": 119,
      "metadata": {
        "id": "kLxh3LsS9lQ4"
      },
      "outputs": [],
      "source": [
        "import numpy as np\n",
        "import pandas as pd\n",
        "import plotly.express as px\n",
        "from sklearn.preprocessing import StandardScaler\n",
        "from sklearn.linear_model import LogisticRegression\n",
        "from sklearn.model_selection import train_test_split\n",
        "from sklearn.metrics import accuracy_score,classification_report"
      ]
    },
    {
      "cell_type": "code",
      "source": [
        "data=pd.read_csv('/content/Crop_recommendation.csv')"
      ],
      "metadata": {
        "id": "CcD1QTTP9pQp"
      },
      "execution_count": 120,
      "outputs": []
    },
    {
      "cell_type": "code",
      "source": [
        "data=data.drop(columns=['N','K','P'])"
      ],
      "metadata": {
        "id": "sio7XOoJ9-VD"
      },
      "execution_count": 121,
      "outputs": []
    },
    {
      "cell_type": "code",
      "source": [
        "data.head()"
      ],
      "metadata": {
        "colab": {
          "base_uri": "https://localhost:8080/",
          "height": 206
        },
        "id": "Hq999sAv9-c8",
        "outputId": "6fe151ac-0662-4ba4-d0f0-32e63415972a"
      },
      "execution_count": 122,
      "outputs": [
        {
          "output_type": "execute_result",
          "data": {
            "text/plain": [
              "   temperature   humidity        ph    rainfall label\n",
              "0    20.879744  82.002744  6.502985  202.935536  rice\n",
              "1    21.770462  80.319644  7.038096  226.655537  rice\n",
              "2    23.004459  82.320763  7.840207  263.964248  rice\n",
              "3    26.491096  80.158363  6.980401  242.864034  rice\n",
              "4    20.130175  81.604873  7.628473  262.717340  rice"
            ],
            "text/html": [
              "\n",
              "  <div id=\"df-43176c51-cc68-428c-8e19-c3fe0d9012ab\" class=\"colab-df-container\">\n",
              "    <div>\n",
              "<style scoped>\n",
              "    .dataframe tbody tr th:only-of-type {\n",
              "        vertical-align: middle;\n",
              "    }\n",
              "\n",
              "    .dataframe tbody tr th {\n",
              "        vertical-align: top;\n",
              "    }\n",
              "\n",
              "    .dataframe thead th {\n",
              "        text-align: right;\n",
              "    }\n",
              "</style>\n",
              "<table border=\"1\" class=\"dataframe\">\n",
              "  <thead>\n",
              "    <tr style=\"text-align: right;\">\n",
              "      <th></th>\n",
              "      <th>temperature</th>\n",
              "      <th>humidity</th>\n",
              "      <th>ph</th>\n",
              "      <th>rainfall</th>\n",
              "      <th>label</th>\n",
              "    </tr>\n",
              "  </thead>\n",
              "  <tbody>\n",
              "    <tr>\n",
              "      <th>0</th>\n",
              "      <td>20.879744</td>\n",
              "      <td>82.002744</td>\n",
              "      <td>6.502985</td>\n",
              "      <td>202.935536</td>\n",
              "      <td>rice</td>\n",
              "    </tr>\n",
              "    <tr>\n",
              "      <th>1</th>\n",
              "      <td>21.770462</td>\n",
              "      <td>80.319644</td>\n",
              "      <td>7.038096</td>\n",
              "      <td>226.655537</td>\n",
              "      <td>rice</td>\n",
              "    </tr>\n",
              "    <tr>\n",
              "      <th>2</th>\n",
              "      <td>23.004459</td>\n",
              "      <td>82.320763</td>\n",
              "      <td>7.840207</td>\n",
              "      <td>263.964248</td>\n",
              "      <td>rice</td>\n",
              "    </tr>\n",
              "    <tr>\n",
              "      <th>3</th>\n",
              "      <td>26.491096</td>\n",
              "      <td>80.158363</td>\n",
              "      <td>6.980401</td>\n",
              "      <td>242.864034</td>\n",
              "      <td>rice</td>\n",
              "    </tr>\n",
              "    <tr>\n",
              "      <th>4</th>\n",
              "      <td>20.130175</td>\n",
              "      <td>81.604873</td>\n",
              "      <td>7.628473</td>\n",
              "      <td>262.717340</td>\n",
              "      <td>rice</td>\n",
              "    </tr>\n",
              "  </tbody>\n",
              "</table>\n",
              "</div>\n",
              "    <div class=\"colab-df-buttons\">\n",
              "\n",
              "  <div class=\"colab-df-container\">\n",
              "    <button class=\"colab-df-convert\" onclick=\"convertToInteractive('df-43176c51-cc68-428c-8e19-c3fe0d9012ab')\"\n",
              "            title=\"Convert this dataframe to an interactive table.\"\n",
              "            style=\"display:none;\">\n",
              "\n",
              "  <svg xmlns=\"http://www.w3.org/2000/svg\" height=\"24px\" viewBox=\"0 -960 960 960\">\n",
              "    <path d=\"M120-120v-720h720v720H120Zm60-500h600v-160H180v160Zm220 220h160v-160H400v160Zm0 220h160v-160H400v160ZM180-400h160v-160H180v160Zm440 0h160v-160H620v160ZM180-180h160v-160H180v160Zm440 0h160v-160H620v160Z\"/>\n",
              "  </svg>\n",
              "    </button>\n",
              "\n",
              "  <style>\n",
              "    .colab-df-container {\n",
              "      display:flex;\n",
              "      gap: 12px;\n",
              "    }\n",
              "\n",
              "    .colab-df-convert {\n",
              "      background-color: #E8F0FE;\n",
              "      border: none;\n",
              "      border-radius: 50%;\n",
              "      cursor: pointer;\n",
              "      display: none;\n",
              "      fill: #1967D2;\n",
              "      height: 32px;\n",
              "      padding: 0 0 0 0;\n",
              "      width: 32px;\n",
              "    }\n",
              "\n",
              "    .colab-df-convert:hover {\n",
              "      background-color: #E2EBFA;\n",
              "      box-shadow: 0px 1px 2px rgba(60, 64, 67, 0.3), 0px 1px 3px 1px rgba(60, 64, 67, 0.15);\n",
              "      fill: #174EA6;\n",
              "    }\n",
              "\n",
              "    .colab-df-buttons div {\n",
              "      margin-bottom: 4px;\n",
              "    }\n",
              "\n",
              "    [theme=dark] .colab-df-convert {\n",
              "      background-color: #3B4455;\n",
              "      fill: #D2E3FC;\n",
              "    }\n",
              "\n",
              "    [theme=dark] .colab-df-convert:hover {\n",
              "      background-color: #434B5C;\n",
              "      box-shadow: 0px 1px 3px 1px rgba(0, 0, 0, 0.15);\n",
              "      filter: drop-shadow(0px 1px 2px rgba(0, 0, 0, 0.3));\n",
              "      fill: #FFFFFF;\n",
              "    }\n",
              "  </style>\n",
              "\n",
              "    <script>\n",
              "      const buttonEl =\n",
              "        document.querySelector('#df-43176c51-cc68-428c-8e19-c3fe0d9012ab button.colab-df-convert');\n",
              "      buttonEl.style.display =\n",
              "        google.colab.kernel.accessAllowed ? 'block' : 'none';\n",
              "\n",
              "      async function convertToInteractive(key) {\n",
              "        const element = document.querySelector('#df-43176c51-cc68-428c-8e19-c3fe0d9012ab');\n",
              "        const dataTable =\n",
              "          await google.colab.kernel.invokeFunction('convertToInteractive',\n",
              "                                                    [key], {});\n",
              "        if (!dataTable) return;\n",
              "\n",
              "        const docLinkHtml = 'Like what you see? Visit the ' +\n",
              "          '<a target=\"_blank\" href=https://colab.research.google.com/notebooks/data_table.ipynb>data table notebook</a>'\n",
              "          + ' to learn more about interactive tables.';\n",
              "        element.innerHTML = '';\n",
              "        dataTable['output_type'] = 'display_data';\n",
              "        await google.colab.output.renderOutput(dataTable, element);\n",
              "        const docLink = document.createElement('div');\n",
              "        docLink.innerHTML = docLinkHtml;\n",
              "        element.appendChild(docLink);\n",
              "      }\n",
              "    </script>\n",
              "  </div>\n",
              "\n",
              "\n",
              "<div id=\"df-0ca43080-136b-4f8b-b471-4b10e648e3aa\">\n",
              "  <button class=\"colab-df-quickchart\" onclick=\"quickchart('df-0ca43080-136b-4f8b-b471-4b10e648e3aa')\"\n",
              "            title=\"Suggest charts\"\n",
              "            style=\"display:none;\">\n",
              "\n",
              "<svg xmlns=\"http://www.w3.org/2000/svg\" height=\"24px\"viewBox=\"0 0 24 24\"\n",
              "     width=\"24px\">\n",
              "    <g>\n",
              "        <path d=\"M19 3H5c-1.1 0-2 .9-2 2v14c0 1.1.9 2 2 2h14c1.1 0 2-.9 2-2V5c0-1.1-.9-2-2-2zM9 17H7v-7h2v7zm4 0h-2V7h2v10zm4 0h-2v-4h2v4z\"/>\n",
              "    </g>\n",
              "</svg>\n",
              "  </button>\n",
              "\n",
              "<style>\n",
              "  .colab-df-quickchart {\n",
              "      --bg-color: #E8F0FE;\n",
              "      --fill-color: #1967D2;\n",
              "      --hover-bg-color: #E2EBFA;\n",
              "      --hover-fill-color: #174EA6;\n",
              "      --disabled-fill-color: #AAA;\n",
              "      --disabled-bg-color: #DDD;\n",
              "  }\n",
              "\n",
              "  [theme=dark] .colab-df-quickchart {\n",
              "      --bg-color: #3B4455;\n",
              "      --fill-color: #D2E3FC;\n",
              "      --hover-bg-color: #434B5C;\n",
              "      --hover-fill-color: #FFFFFF;\n",
              "      --disabled-bg-color: #3B4455;\n",
              "      --disabled-fill-color: #666;\n",
              "  }\n",
              "\n",
              "  .colab-df-quickchart {\n",
              "    background-color: var(--bg-color);\n",
              "    border: none;\n",
              "    border-radius: 50%;\n",
              "    cursor: pointer;\n",
              "    display: none;\n",
              "    fill: var(--fill-color);\n",
              "    height: 32px;\n",
              "    padding: 0;\n",
              "    width: 32px;\n",
              "  }\n",
              "\n",
              "  .colab-df-quickchart:hover {\n",
              "    background-color: var(--hover-bg-color);\n",
              "    box-shadow: 0 1px 2px rgba(60, 64, 67, 0.3), 0 1px 3px 1px rgba(60, 64, 67, 0.15);\n",
              "    fill: var(--button-hover-fill-color);\n",
              "  }\n",
              "\n",
              "  .colab-df-quickchart-complete:disabled,\n",
              "  .colab-df-quickchart-complete:disabled:hover {\n",
              "    background-color: var(--disabled-bg-color);\n",
              "    fill: var(--disabled-fill-color);\n",
              "    box-shadow: none;\n",
              "  }\n",
              "\n",
              "  .colab-df-spinner {\n",
              "    border: 2px solid var(--fill-color);\n",
              "    border-color: transparent;\n",
              "    border-bottom-color: var(--fill-color);\n",
              "    animation:\n",
              "      spin 1s steps(1) infinite;\n",
              "  }\n",
              "\n",
              "  @keyframes spin {\n",
              "    0% {\n",
              "      border-color: transparent;\n",
              "      border-bottom-color: var(--fill-color);\n",
              "      border-left-color: var(--fill-color);\n",
              "    }\n",
              "    20% {\n",
              "      border-color: transparent;\n",
              "      border-left-color: var(--fill-color);\n",
              "      border-top-color: var(--fill-color);\n",
              "    }\n",
              "    30% {\n",
              "      border-color: transparent;\n",
              "      border-left-color: var(--fill-color);\n",
              "      border-top-color: var(--fill-color);\n",
              "      border-right-color: var(--fill-color);\n",
              "    }\n",
              "    40% {\n",
              "      border-color: transparent;\n",
              "      border-right-color: var(--fill-color);\n",
              "      border-top-color: var(--fill-color);\n",
              "    }\n",
              "    60% {\n",
              "      border-color: transparent;\n",
              "      border-right-color: var(--fill-color);\n",
              "    }\n",
              "    80% {\n",
              "      border-color: transparent;\n",
              "      border-right-color: var(--fill-color);\n",
              "      border-bottom-color: var(--fill-color);\n",
              "    }\n",
              "    90% {\n",
              "      border-color: transparent;\n",
              "      border-bottom-color: var(--fill-color);\n",
              "    }\n",
              "  }\n",
              "</style>\n",
              "\n",
              "  <script>\n",
              "    async function quickchart(key) {\n",
              "      const quickchartButtonEl =\n",
              "        document.querySelector('#' + key + ' button');\n",
              "      quickchartButtonEl.disabled = true;  // To prevent multiple clicks.\n",
              "      quickchartButtonEl.classList.add('colab-df-spinner');\n",
              "      try {\n",
              "        const charts = await google.colab.kernel.invokeFunction(\n",
              "            'suggestCharts', [key], {});\n",
              "      } catch (error) {\n",
              "        console.error('Error during call to suggestCharts:', error);\n",
              "      }\n",
              "      quickchartButtonEl.classList.remove('colab-df-spinner');\n",
              "      quickchartButtonEl.classList.add('colab-df-quickchart-complete');\n",
              "    }\n",
              "    (() => {\n",
              "      let quickchartButtonEl =\n",
              "        document.querySelector('#df-0ca43080-136b-4f8b-b471-4b10e648e3aa button');\n",
              "      quickchartButtonEl.style.display =\n",
              "        google.colab.kernel.accessAllowed ? 'block' : 'none';\n",
              "    })();\n",
              "  </script>\n",
              "</div>\n",
              "    </div>\n",
              "  </div>\n"
            ],
            "application/vnd.google.colaboratory.intrinsic+json": {
              "type": "dataframe",
              "variable_name": "data",
              "summary": "{\n  \"name\": \"data\",\n  \"rows\": 2200,\n  \"fields\": [\n    {\n      \"column\": \"temperature\",\n      \"properties\": {\n        \"dtype\": \"number\",\n        \"std\": 5.063748599958843,\n        \"min\": 8.825674745,\n        \"max\": 43.67549305,\n        \"num_unique_values\": 2200,\n        \"samples\": [\n          29.49401389,\n          26.1793464,\n          43.36051537\n        ],\n        \"semantic_type\": \"\",\n        \"description\": \"\"\n      }\n    },\n    {\n      \"column\": \"humidity\",\n      \"properties\": {\n        \"dtype\": \"number\",\n        \"std\": 22.263811589761083,\n        \"min\": 14.25803981,\n        \"max\": 99.98187601,\n        \"num_unique_values\": 2200,\n        \"samples\": [\n          94.72981338,\n          86.52258079,\n          93.35191636\n        ],\n        \"semantic_type\": \"\",\n        \"description\": \"\"\n      }\n    },\n    {\n      \"column\": \"ph\",\n      \"properties\": {\n        \"dtype\": \"number\",\n        \"std\": 0.7739376880298733,\n        \"min\": 3.504752314,\n        \"max\": 9.93509073,\n        \"num_unique_values\": 2200,\n        \"samples\": [\n          6.185053234,\n          6.25933595,\n          6.941496806\n        ],\n        \"semantic_type\": \"\",\n        \"description\": \"\"\n      }\n    },\n    {\n      \"column\": \"rainfall\",\n      \"properties\": {\n        \"dtype\": \"number\",\n        \"std\": 54.95838852487813,\n        \"min\": 20.21126747,\n        \"max\": 298.5601175,\n        \"num_unique_values\": 2200,\n        \"samples\": [\n          26.30820876,\n          49.43050977,\n          114.778071\n        ],\n        \"semantic_type\": \"\",\n        \"description\": \"\"\n      }\n    },\n    {\n      \"column\": \"label\",\n      \"properties\": {\n        \"dtype\": \"category\",\n        \"num_unique_values\": 22,\n        \"samples\": [\n          \"rice\",\n          \"watermelon\",\n          \"lentil\"\n        ],\n        \"semantic_type\": \"\",\n        \"description\": \"\"\n      }\n    }\n  ]\n}"
            }
          },
          "metadata": {},
          "execution_count": 122
        }
      ]
    },
    {
      "cell_type": "code",
      "source": [
        "X=data.iloc[:, :-1].values\n",
        "y=data.iloc[:, -1].values"
      ],
      "metadata": {
        "id": "vhdS89Wf-2t6"
      },
      "execution_count": 123,
      "outputs": []
    },
    {
      "cell_type": "code",
      "source": [
        "X\n",
        "y"
      ],
      "metadata": {
        "colab": {
          "base_uri": "https://localhost:8080/"
        },
        "id": "kBvzjedd_B-w",
        "outputId": "b394a4d9-946d-408c-ff3e-402a737d1025"
      },
      "execution_count": 124,
      "outputs": [
        {
          "output_type": "execute_result",
          "data": {
            "text/plain": [
              "array(['rice', 'rice', 'rice', ..., 'coffee', 'coffee', 'coffee'],\n",
              "      dtype=object)"
            ]
          },
          "metadata": {},
          "execution_count": 124
        }
      ]
    },
    {
      "cell_type": "code",
      "source": [
        "X_train,X_test,y_train,y_test=train_test_split(X,y,test_size=0.2,random_state=42)\n",
        "X_test"
      ],
      "metadata": {
        "colab": {
          "base_uri": "https://localhost:8080/"
        },
        "id": "iu_KRHc5_Ixf",
        "outputId": "0d2a4fcc-9dbd-44fb-9227-5b24eb862753"
      },
      "execution_count": 125,
      "outputs": [
        {
          "output_type": "execute_result",
          "data": {
            "text/plain": [
              "array([[ 29.49401389,  94.72981338,   6.18505323,  26.30820876],\n",
              "       [ 26.1793464 ,  86.52258079,   6.25933595,  49.43050977],\n",
              "       [ 43.36051537,  93.35191636,   6.94149681, 114.778071  ],\n",
              "       ...,\n",
              "       [ 23.60564038,  79.29573149,   7.72324015,  72.49800885],\n",
              "       [ 22.94276687,  75.37170612,   6.11452588,  67.08022574],\n",
              "       [ 19.04380471,  33.10695144,   6.12166671, 155.3705624 ]])"
            ]
          },
          "metadata": {},
          "execution_count": 125
        }
      ]
    },
    {
      "cell_type": "code",
      "source": [
        "scalar=StandardScaler()"
      ],
      "metadata": {
        "id": "peNrWfMt_PC0"
      },
      "execution_count": 126,
      "outputs": []
    },
    {
      "cell_type": "code",
      "source": [
        "X_train=scalar.fit_transform(X_train)\n",
        "X_test=scalar.fit_transform(X_test)"
      ],
      "metadata": {
        "id": "gZnVEySz_TsI"
      },
      "execution_count": 127,
      "outputs": []
    },
    {
      "cell_type": "code",
      "source": [
        "model=LogisticRegression(random_state=42)"
      ],
      "metadata": {
        "id": "PYuwU5xr_bTu"
      },
      "execution_count": 128,
      "outputs": []
    },
    {
      "cell_type": "code",
      "source": [
        "model.fit(X_train,y_train)"
      ],
      "metadata": {
        "colab": {
          "base_uri": "https://localhost:8080/",
          "height": 75
        },
        "id": "-2zCGzv2_f6t",
        "outputId": "ff0f943e-4eee-45b9-987c-3ff0e0e33005"
      },
      "execution_count": 129,
      "outputs": [
        {
          "output_type": "execute_result",
          "data": {
            "text/plain": [
              "LogisticRegression(random_state=42)"
            ],
            "text/html": [
              "<style>#sk-container-id-8 {color: black;background-color: white;}#sk-container-id-8 pre{padding: 0;}#sk-container-id-8 div.sk-toggleable {background-color: white;}#sk-container-id-8 label.sk-toggleable__label {cursor: pointer;display: block;width: 100%;margin-bottom: 0;padding: 0.3em;box-sizing: border-box;text-align: center;}#sk-container-id-8 label.sk-toggleable__label-arrow:before {content: \"▸\";float: left;margin-right: 0.25em;color: #696969;}#sk-container-id-8 label.sk-toggleable__label-arrow:hover:before {color: black;}#sk-container-id-8 div.sk-estimator:hover label.sk-toggleable__label-arrow:before {color: black;}#sk-container-id-8 div.sk-toggleable__content {max-height: 0;max-width: 0;overflow: hidden;text-align: left;background-color: #f0f8ff;}#sk-container-id-8 div.sk-toggleable__content pre {margin: 0.2em;color: black;border-radius: 0.25em;background-color: #f0f8ff;}#sk-container-id-8 input.sk-toggleable__control:checked~div.sk-toggleable__content {max-height: 200px;max-width: 100%;overflow: auto;}#sk-container-id-8 input.sk-toggleable__control:checked~label.sk-toggleable__label-arrow:before {content: \"▾\";}#sk-container-id-8 div.sk-estimator input.sk-toggleable__control:checked~label.sk-toggleable__label {background-color: #d4ebff;}#sk-container-id-8 div.sk-label input.sk-toggleable__control:checked~label.sk-toggleable__label {background-color: #d4ebff;}#sk-container-id-8 input.sk-hidden--visually {border: 0;clip: rect(1px 1px 1px 1px);clip: rect(1px, 1px, 1px, 1px);height: 1px;margin: -1px;overflow: hidden;padding: 0;position: absolute;width: 1px;}#sk-container-id-8 div.sk-estimator {font-family: monospace;background-color: #f0f8ff;border: 1px dotted black;border-radius: 0.25em;box-sizing: border-box;margin-bottom: 0.5em;}#sk-container-id-8 div.sk-estimator:hover {background-color: #d4ebff;}#sk-container-id-8 div.sk-parallel-item::after {content: \"\";width: 100%;border-bottom: 1px solid gray;flex-grow: 1;}#sk-container-id-8 div.sk-label:hover label.sk-toggleable__label {background-color: #d4ebff;}#sk-container-id-8 div.sk-serial::before {content: \"\";position: absolute;border-left: 1px solid gray;box-sizing: border-box;top: 0;bottom: 0;left: 50%;z-index: 0;}#sk-container-id-8 div.sk-serial {display: flex;flex-direction: column;align-items: center;background-color: white;padding-right: 0.2em;padding-left: 0.2em;position: relative;}#sk-container-id-8 div.sk-item {position: relative;z-index: 1;}#sk-container-id-8 div.sk-parallel {display: flex;align-items: stretch;justify-content: center;background-color: white;position: relative;}#sk-container-id-8 div.sk-item::before, #sk-container-id-8 div.sk-parallel-item::before {content: \"\";position: absolute;border-left: 1px solid gray;box-sizing: border-box;top: 0;bottom: 0;left: 50%;z-index: -1;}#sk-container-id-8 div.sk-parallel-item {display: flex;flex-direction: column;z-index: 1;position: relative;background-color: white;}#sk-container-id-8 div.sk-parallel-item:first-child::after {align-self: flex-end;width: 50%;}#sk-container-id-8 div.sk-parallel-item:last-child::after {align-self: flex-start;width: 50%;}#sk-container-id-8 div.sk-parallel-item:only-child::after {width: 0;}#sk-container-id-8 div.sk-dashed-wrapped {border: 1px dashed gray;margin: 0 0.4em 0.5em 0.4em;box-sizing: border-box;padding-bottom: 0.4em;background-color: white;}#sk-container-id-8 div.sk-label label {font-family: monospace;font-weight: bold;display: inline-block;line-height: 1.2em;}#sk-container-id-8 div.sk-label-container {text-align: center;}#sk-container-id-8 div.sk-container {/* jupyter's `normalize.less` sets `[hidden] { display: none; }` but bootstrap.min.css set `[hidden] { display: none !important; }` so we also need the `!important` here to be able to override the default hidden behavior on the sphinx rendered scikit-learn.org. See: https://github.com/scikit-learn/scikit-learn/issues/21755 */display: inline-block !important;position: relative;}#sk-container-id-8 div.sk-text-repr-fallback {display: none;}</style><div id=\"sk-container-id-8\" class=\"sk-top-container\"><div class=\"sk-text-repr-fallback\"><pre>LogisticRegression(random_state=42)</pre><b>In a Jupyter environment, please rerun this cell to show the HTML representation or trust the notebook. <br />On GitHub, the HTML representation is unable to render, please try loading this page with nbviewer.org.</b></div><div class=\"sk-container\" hidden><div class=\"sk-item\"><div class=\"sk-estimator sk-toggleable\"><input class=\"sk-toggleable__control sk-hidden--visually\" id=\"sk-estimator-id-8\" type=\"checkbox\" checked><label for=\"sk-estimator-id-8\" class=\"sk-toggleable__label sk-toggleable__label-arrow\">LogisticRegression</label><div class=\"sk-toggleable__content\"><pre>LogisticRegression(random_state=42)</pre></div></div></div></div></div>"
            ]
          },
          "metadata": {},
          "execution_count": 129
        }
      ]
    },
    {
      "cell_type": "markdown",
      "source": [],
      "metadata": {
        "id": "_CgJcIxv_pEc"
      }
    },
    {
      "cell_type": "code",
      "source": [
        "y_pred=model.predict(X_test)\n",
        "y_pred"
      ],
      "metadata": {
        "colab": {
          "base_uri": "https://localhost:8080/"
        },
        "id": "NMcyuAvJ_pn5",
        "outputId": "597dd0bc-d030-4dee-cab9-a7351a26ff1c"
      },
      "execution_count": 130,
      "outputs": [
        {
          "output_type": "execute_result",
          "data": {
            "text/plain": [
              "array(['muskmelon', 'watermelon', 'papaya', 'papaya', 'apple', 'mango',\n",
              "       'pomegranate', 'lentil', 'watermelon', 'lentil', 'blackgram',\n",
              "       'coconut', 'orange', 'jute', 'papaya', 'orange', 'apple', 'maize',\n",
              "       'rice', 'muskmelon', 'coffee', 'papaya', 'apple', 'papaya',\n",
              "       'chickpea', 'jute', 'mungbean', 'orange', 'pigeonpeas', 'rice',\n",
              "       'apple', 'mothbeans', 'jute', 'lentil', 'jute', 'blackgram',\n",
              "       'jute', 'chickpea', 'chickpea', 'kidneybeans', 'rice', 'mango',\n",
              "       'blackgram', 'maize', 'mungbean', 'maize', 'mango', 'coconut',\n",
              "       'muskmelon', 'maize', 'blackgram', 'pigeonpeas', 'grapes',\n",
              "       'mungbean', 'maize', 'kidneybeans', 'cotton', 'apple', 'banana',\n",
              "       'lentil', 'watermelon', 'coconut', 'lentil', 'pomegranate',\n",
              "       'muskmelon', 'mango', 'papaya', 'rice', 'muskmelon', 'coffee',\n",
              "       'muskmelon', 'coconut', 'jute', 'banana', 'lentil', 'papaya',\n",
              "       'banana', 'cotton', 'mungbean', 'pomegranate', 'coffee',\n",
              "       'chickpea', 'jute', 'blackgram', 'papaya', 'mango', 'coffee',\n",
              "       'mothbeans', 'blackgram', 'orange', 'maize', 'blackgram', 'cotton',\n",
              "       'orange', 'coffee', 'mango', 'kidneybeans', 'coffee', 'blackgram',\n",
              "       'lentil', 'coconut', 'jute', 'orange', 'muskmelon', 'watermelon',\n",
              "       'kidneybeans', 'watermelon', 'banana', 'pigeonpeas', 'mothbeans',\n",
              "       'banana', 'jute', 'cotton', 'pomegranate', 'pigeonpeas',\n",
              "       'kidneybeans', 'maize', 'coconut', 'apple', 'rice', 'coffee',\n",
              "       'grapes', 'blackgram', 'coconut', 'chickpea', 'blackgram',\n",
              "       'coconut', 'maize', 'banana', 'mothbeans', 'banana', 'mothbeans',\n",
              "       'orange', 'chickpea', 'coconut', 'orange', 'banana', 'banana',\n",
              "       'banana', 'pomegranate', 'kidneybeans', 'muskmelon', 'mungbean',\n",
              "       'mothbeans', 'coconut', 'cotton', 'apple', 'coconut',\n",
              "       'kidneybeans', 'grapes', 'watermelon', 'lentil', 'watermelon',\n",
              "       'mungbean', 'banana', 'maize', 'pigeonpeas', 'kidneybeans',\n",
              "       'maize', 'jute', 'chickpea', 'apple', 'apple', 'cotton', 'rice',\n",
              "       'coconut', 'blackgram', 'lentil', 'watermelon', 'grapes',\n",
              "       'mungbean', 'blackgram', 'orange', 'chickpea', 'coconut', 'maize',\n",
              "       'lentil', 'mungbean', 'watermelon', 'jute', 'coffee', 'coffee',\n",
              "       'kidneybeans', 'jute', 'mothbeans', 'kidneybeans', 'banana',\n",
              "       'kidneybeans', 'coconut', 'orange', 'papaya', 'mungbean', 'mango',\n",
              "       'apple', 'watermelon', 'pigeonpeas', 'lentil', 'apple',\n",
              "       'blackgram', 'chickpea', 'grapes', 'grapes', 'banana', 'grapes',\n",
              "       'rice', 'orange', 'mungbean', 'banana', 'jute', 'mungbean',\n",
              "       'cotton', 'chickpea', 'chickpea', 'chickpea', 'pomegranate',\n",
              "       'jute', 'kidneybeans', 'mungbean', 'coffee', 'blackgram',\n",
              "       'kidneybeans', 'mango', 'mango', 'coconut', 'papaya', 'apple',\n",
              "       'chickpea', 'apple', 'chickpea', 'muskmelon', 'apple', 'muskmelon',\n",
              "       'muskmelon', 'mango', 'mango', 'cotton', 'coconut', 'orange',\n",
              "       'rice', 'muskmelon', 'pigeonpeas', 'papaya', 'lentil', 'maize',\n",
              "       'mango', 'muskmelon', 'mango', 'watermelon', 'coffee', 'maize',\n",
              "       'coconut', 'grapes', 'coffee', 'rice', 'apple', 'apple',\n",
              "       'pigeonpeas', 'chickpea', 'cotton', 'jute', 'mango', 'grapes',\n",
              "       'papaya', 'apple', 'chickpea', 'rice', 'mango', 'blackgram',\n",
              "       'mungbean', 'jute', 'pomegranate', 'grapes', 'blackgram', 'orange',\n",
              "       'grapes', 'coconut', 'lentil', 'chickpea', 'banana', 'jute',\n",
              "       'coconut', 'jute', 'mango', 'muskmelon', 'apple', 'banana',\n",
              "       'pigeonpeas', 'blackgram', 'orange', 'chickpea', 'watermelon',\n",
              "       'banana', 'apple', 'chickpea', 'coffee', 'banana', 'orange',\n",
              "       'pomegranate', 'coconut', 'papaya', 'watermelon', 'mothbeans',\n",
              "       'rice', 'chickpea', 'orange', 'chickpea', 'mungbean', 'mothbeans',\n",
              "       'apple', 'pomegranate', 'chickpea', 'mango', 'chickpea',\n",
              "       'pomegranate', 'watermelon', 'kidneybeans', 'muskmelon',\n",
              "       'muskmelon', 'watermelon', 'kidneybeans', 'muskmelon', 'mango',\n",
              "       'jute', 'blackgram', 'chickpea', 'banana', 'blackgram',\n",
              "       'pigeonpeas', 'papaya', 'chickpea', 'mungbean', 'coconut',\n",
              "       'cotton', 'mungbean', 'apple', 'lentil', 'banana', 'jute',\n",
              "       'pomegranate', 'orange', 'apple', 'mungbean', 'muskmelon',\n",
              "       'coffee', 'coffee', 'pigeonpeas', 'jute', 'kidneybeans', 'banana',\n",
              "       'maize', 'jute', 'maize', 'pigeonpeas', 'mango', 'kidneybeans',\n",
              "       'pomegranate', 'watermelon', 'blackgram', 'maize', 'rice',\n",
              "       'grapes', 'kidneybeans', 'mango', 'grapes', 'papaya', 'mothbeans',\n",
              "       'grapes', 'mungbean', 'orange', 'rice', 'lentil', 'mungbean',\n",
              "       'coffee', 'banana', 'pigeonpeas', 'papaya', 'apple', 'pomegranate',\n",
              "       'grapes', 'mango', 'coconut', 'apple', 'lentil', 'jute',\n",
              "       'mothbeans', 'lentil', 'orange', 'blackgram', 'jute', 'mungbean',\n",
              "       'cotton', 'mungbean', 'pomegranate', 'grapes', 'coconut', 'grapes',\n",
              "       'watermelon', 'rice', 'mango', 'mango', 'coffee', 'orange',\n",
              "       'banana', 'grapes', 'jute', 'orange', 'watermelon', 'mango',\n",
              "       'papaya', 'muskmelon', 'mothbeans', 'jute', 'kidneybeans',\n",
              "       'lentil', 'apple', 'watermelon', 'mothbeans', 'cotton', 'papaya',\n",
              "       'watermelon', 'mothbeans', 'rice', 'coconut', 'grapes', 'lentil',\n",
              "       'maize', 'rice', 'maize', 'coconut', 'pomegranate', 'pomegranate',\n",
              "       'kidneybeans', 'watermelon', 'mungbean', 'blackgram', 'rice',\n",
              "       'rice', 'cotton', 'grapes', 'kidneybeans'], dtype=object)"
            ]
          },
          "metadata": {},
          "execution_count": 130
        }
      ]
    },
    {
      "cell_type": "code",
      "source": [
        "acc=accuracy_score(y_test,y_pred)\n",
        "acc"
      ],
      "metadata": {
        "colab": {
          "base_uri": "https://localhost:8080/"
        },
        "id": "Gx5W6H9p_vSC",
        "outputId": "ded48cec-9658-489e-b149-780b68d51672"
      },
      "execution_count": 131,
      "outputs": [
        {
          "output_type": "execute_result",
          "data": {
            "text/plain": [
              "0.7545454545454545"
            ]
          },
          "metadata": {},
          "execution_count": 131
        }
      ]
    },
    {
      "cell_type": "code",
      "source": [
        "class_report=classification_report(y_test,y_pred)\n",
        "print(f\"accuracy:{acc}\")\n",
        "print(f\"classification report:{class_report}\")"
      ],
      "metadata": {
        "colab": {
          "base_uri": "https://localhost:8080/"
        },
        "id": "7HFJgGZK_1fw",
        "outputId": "87f8bf3a-861e-4cdb-d3b6-f1b0054451d0"
      },
      "execution_count": 132,
      "outputs": [
        {
          "output_type": "stream",
          "name": "stdout",
          "text": [
            "accuracy:0.7545454545454545\n",
            "classification report:              precision    recall  f1-score   support\n",
            "\n",
            "       apple       0.68      0.74      0.71        23\n",
            "      banana       0.87      0.95      0.91        21\n",
            "   blackgram       0.77      0.85      0.81        20\n",
            "    chickpea       0.96      0.92      0.94        26\n",
            "     coconut       1.00      0.93      0.96        27\n",
            "      coffee       0.76      0.76      0.76        17\n",
            "      cotton       0.85      0.65      0.73        17\n",
            "      grapes       0.45      0.64      0.53        14\n",
            "        jute       0.81      0.91      0.86        23\n",
            " kidneybeans       0.86      0.90      0.88        20\n",
            "      lentil       0.53      0.91      0.67        11\n",
            "       maize       0.83      0.71      0.77        21\n",
            "       mango       0.79      1.00      0.88        19\n",
            "   mothbeans       0.86      0.50      0.63        24\n",
            "    mungbean       0.68      0.79      0.73        19\n",
            "   muskmelon       0.89      1.00      0.94        17\n",
            "      orange       0.33      0.50      0.40        14\n",
            "      papaya       0.83      0.65      0.73        23\n",
            "  pigeonpeas       0.69      0.39      0.50        23\n",
            " pomegranate       0.44      0.30      0.36        23\n",
            "        rice       0.78      0.74      0.76        19\n",
            "  watermelon       0.81      0.89      0.85        19\n",
            "\n",
            "    accuracy                           0.75       440\n",
            "   macro avg       0.75      0.76      0.74       440\n",
            "weighted avg       0.77      0.75      0.75       440\n",
            "\n"
          ]
        }
      ]
    },
    {
      "cell_type": "code",
      "source": [
        "import joblib\n",
        "joblib.dump(model,'dpm.joblib')"
      ],
      "metadata": {
        "colab": {
          "base_uri": "https://localhost:8080/"
        },
        "id": "M5Kmugix_9TS",
        "outputId": "79496017-28b7-4e15-f5f3-3b2f022a2146"
      },
      "execution_count": 133,
      "outputs": [
        {
          "output_type": "execute_result",
          "data": {
            "text/plain": [
              "['dpm.joblib']"
            ]
          },
          "metadata": {},
          "execution_count": 133
        }
      ]
    },
    {
      "cell_type": "code",
      "source": [
        "loaded_model=joblib.load('/content/dpm.joblib')"
      ],
      "metadata": {
        "id": "v0J7luf3AAr5"
      },
      "execution_count": 134,
      "outputs": []
    },
    {
      "cell_type": "code",
      "source": [
        "def predict(data):\n",
        "  scaled_data=scalar.transform(data)\n",
        "  prediction=loaded_model.predict(scaled_data)\n",
        "  print(prediction)"
      ],
      "metadata": {
        "id": "EtIFhA9VAPgy"
      },
      "execution_count": 135,
      "outputs": []
    },
    {
      "cell_type": "code",
      "source": [
        "new_data=np.array([[35,  20.72981338,   7.505323,  200]])\n",
        "predict(new_data)"
      ],
      "metadata": {
        "colab": {
          "base_uri": "https://localhost:8080/"
        },
        "id": "lkXF4oGnAQky",
        "outputId": "156f55c3-e370-4cb3-8670-a320cffa3c7e"
      },
      "execution_count": 137,
      "outputs": [
        {
          "output_type": "stream",
          "name": "stdout",
          "text": [
            "['pigeonpeas']\n"
          ]
        }
      ]
    }
  ]
}